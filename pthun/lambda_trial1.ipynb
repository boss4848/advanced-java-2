{
 "cells": [
  {
   "cell_type": "code",
   "execution_count": 12,
   "id": "d02a8e83-a945-48e4-92a2-3c0594014cc2",
   "metadata": {
    "tags": []
   },
   "outputs": [],
   "source": [
    "enum Color { RED, GREEN }"
   ]
  },
  {
   "cell_type": "code",
   "execution_count": 13,
   "id": "4fd3a814-106c-4883-8261-432b55e38dc7",
   "metadata": {
    "tags": []
   },
   "outputs": [],
   "source": [
    "class Apple {\n",
    "    Color color;\n",
    "    \n",
    "    public Apple(Color color) {\n",
    "        this.color = color;\n",
    "    }\n",
    "    \n",
    "    public Color getColor() {\n",
    "        return color;\n",
    "    }\n",
    "    \n",
    "    public String toString() {\n",
    "        return color.toString();\n",
    "    }\n",
    "}"
   ]
  },
  {
   "cell_type": "markdown",
   "id": "0dce2f36-ed0e-4951-a92e-7e196d7025dd",
   "metadata": {},
   "source": [
    "## Using filtering method"
   ]
  },
  {
   "cell_type": "code",
   "execution_count": 14,
   "id": "8cc27de3-48d3-4a2a-866c-7a7bbc02b10c",
   "metadata": {
    "tags": []
   },
   "outputs": [],
   "source": [
    "public static List<Apple> filterGreenApples(List<Apple> inventory) {\n",
    "    List<Apple> result = new ArrayList<>();\n",
    "    for(Apple apple: inventory) {\n",
    "        if (Color.GREEN.equals(apple.getColor())) {\n",
    "            result.add(apple);\n",
    "        }\n",
    "    }\n",
    "    return result;\n",
    "}"
   ]
  },
  {
   "cell_type": "code",
   "execution_count": 15,
   "id": "ba7b3fe6-0c27-4809-9f67-65b284ebce95",
   "metadata": {
    "tags": []
   },
   "outputs": [],
   "source": [
    "public static List<Apple> filterRedApples(List<Apple> inventory) {\n",
    "    List<Apple> result = new ArrayList<>();\n",
    "    for(Apple apple: inventory) {\n",
    "        if (Color.RED.equals(apple.getColor())) {\n",
    "            result.add(apple);\n",
    "        }\n",
    "    }\n",
    "    return result;\n",
    "}"
   ]
  },
  {
   "cell_type": "code",
   "execution_count": 16,
   "id": "3cc90640-ec91-4f75-b7c0-5015f348deb0",
   "metadata": {
    "tags": []
   },
   "outputs": [
    {
     "data": {
      "text/plain": [
       "true"
      ]
     },
     "execution_count": 16,
     "metadata": {},
     "output_type": "execute_result"
    }
   ],
   "source": [
    "ArrayList<Apple> apples = new ArrayList<>();\n",
    "apples.add(new Apple(Color.GREEN));\n",
    "apples.add(new Apple(Color.RED));\n",
    "apples.add(new Apple(Color.GREEN));\n",
    "apples.add(new Apple(Color.GREEN));\n",
    "apples.add(new Apple(Color.RED));"
   ]
  },
  {
   "cell_type": "code",
   "execution_count": 6,
   "id": "e60ee3f7-d290-4ea6-8ace-b0195c3b39e7",
   "metadata": {
    "tags": []
   },
   "outputs": [
    {
     "data": {
      "text/plain": [
       "[GREEN, RED, GREEN, GREEN, RED]"
      ]
     },
     "execution_count": 6,
     "metadata": {},
     "output_type": "execute_result"
    }
   ],
   "source": [
    "apples"
   ]
  },
  {
   "cell_type": "code",
   "execution_count": 7,
   "id": "202b10e0-049c-4498-bdcd-e68c510566dd",
   "metadata": {
    "tags": []
   },
   "outputs": [
    {
     "data": {
      "text/plain": [
       "[GREEN, GREEN, GREEN]"
      ]
     },
     "execution_count": 7,
     "metadata": {},
     "output_type": "execute_result"
    }
   ],
   "source": [
    "List<Apple> greenApples = filterGreenApples(apples);\n",
    "greenApples;"
   ]
  },
  {
   "cell_type": "code",
   "execution_count": 8,
   "id": "52d6d783-813a-422e-bf4b-1873e2a06b1f",
   "metadata": {
    "tags": []
   },
   "outputs": [
    {
     "data": {
      "text/plain": [
       "[RED, RED]"
      ]
     },
     "execution_count": 8,
     "metadata": {},
     "output_type": "execute_result"
    }
   ],
   "source": [
    "List<Apple> redApples = filterRedApples(apples);\n",
    "redApples;"
   ]
  },
  {
   "cell_type": "markdown",
   "id": "0040fa9e-bea2-46e0-8ad0-4011d9276f0e",
   "metadata": {
    "tags": []
   },
   "source": [
    "## Using parameterized method"
   ]
  },
  {
   "cell_type": "code",
   "execution_count": 18,
   "id": "eee2170f-5abd-44aa-9cb1-b58e81343d80",
   "metadata": {
    "tags": []
   },
   "outputs": [],
   "source": [
    "public static List<Apple> filterColorApples(List<Apple> inventory, Color color) {\n",
    "    List<Apple> result = new ArrayList<>();\n",
    "    for(Apple apple: inventory) {\n",
    "        if (color.equals(apple.getColor())) {\n",
    "            result.add(apple);\n",
    "        }\n",
    "    }\n",
    "    return result;\n",
    "}"
   ]
  },
  {
   "cell_type": "code",
   "execution_count": 19,
   "id": "1fe62846-98a3-4ee8-a84d-cd3e9efd3b1e",
   "metadata": {
    "tags": []
   },
   "outputs": [
    {
     "data": {
      "text/plain": [
       "[GREEN, GREEN, GREEN]"
      ]
     },
     "execution_count": 19,
     "metadata": {},
     "output_type": "execute_result"
    }
   ],
   "source": [
    "List<Apple> greenApples = filterColorApples(apples, Color.GREEN);\n",
    "greenApples;"
   ]
  },
  {
   "cell_type": "code",
   "execution_count": 20,
   "id": "5ee4c9d6-fd86-4366-b349-835c19795548",
   "metadata": {
    "tags": []
   },
   "outputs": [
    {
     "data": {
      "text/plain": [
       "[RED, RED]"
      ]
     },
     "execution_count": 20,
     "metadata": {},
     "output_type": "execute_result"
    }
   ],
   "source": [
    "List<Apple> redApples = filterColorApples(apples, Color.RED);\n",
    "redApples;"
   ]
  },
  {
   "cell_type": "code",
   "execution_count": null,
   "id": "1cfa62ce-e74a-42ac-a077-63ed32a9fd31",
   "metadata": {},
   "outputs": [],
   "source": []
  }
 ],
 "metadata": {
  "kernelspec": {
   "display_name": "Java",
   "language": "java",
   "name": "java"
  },
  "language_info": {
   "codemirror_mode": "java",
   "file_extension": ".jshell",
   "mimetype": "text/x-java-source",
   "name": "Java",
   "pygments_lexer": "java",
   "version": "21+35-LTS-2513"
  }
 },
 "nbformat": 4,
 "nbformat_minor": 5
}
