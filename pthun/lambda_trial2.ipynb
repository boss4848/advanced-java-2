{
 "cells": [
  {
   "cell_type": "code",
   "execution_count": 1,
   "id": "306360e3-78a4-44fa-9214-88cd40911c96",
   "metadata": {
    "tags": []
   },
   "outputs": [],
   "source": [
    "enum Color { RED, GREEN }"
   ]
  },
  {
   "cell_type": "code",
   "execution_count": 2,
   "id": "dffcc3f0-7f40-4853-88ef-8f64dba8e875",
   "metadata": {
    "tags": []
   },
   "outputs": [],
   "source": [
    "class Apple {\n",
    "    Color color;\n",
    "    int weight;\n",
    "    \n",
    "    public Apple(Color color, int weight) {\n",
    "        this.color = color;\n",
    "        this.weight = weight;\n",
    "    }\n",
    "    \n",
    "    public Color getColor() {\n",
    "        return color;\n",
    "    }\n",
    "    \n",
    "    public int getWeight() {\n",
    "        return weight;\n",
    "    }\n",
    "    \n",
    "    \n",
    "    public String toString() {\n",
    "        return color.toString() + \" \" + weight;\n",
    "    }\n",
    "}"
   ]
  },
  {
   "cell_type": "code",
   "execution_count": 3,
   "id": "fcb7d82a-3276-4fe0-8fa9-770317475e67",
   "metadata": {
    "tags": []
   },
   "outputs": [
    {
     "data": {
      "text/plain": [
       "true"
      ]
     },
     "execution_count": 3,
     "metadata": {},
     "output_type": "execute_result"
    }
   ],
   "source": [
    "ArrayList<Apple> apples = new ArrayList<>();\n",
    "apples.add(new Apple(Color.GREEN, 12));\n",
    "apples.add(new Apple(Color.RED, 15));\n",
    "apples.add(new Apple(Color.GREEN, 11));\n",
    "apples.add(new Apple(Color.GREEN, 7));\n",
    "apples.add(new Apple(Color.RED, 12));"
   ]
  },
  {
   "cell_type": "code",
   "execution_count": 4,
   "id": "e585ae44-d2a3-4717-938c-5b60a1157a70",
   "metadata": {
    "tags": []
   },
   "outputs": [
    {
     "data": {
      "text/plain": [
       "[GREEN 12, RED 15, GREEN 11, GREEN 7, RED 12]"
      ]
     },
     "execution_count": 4,
     "metadata": {},
     "output_type": "execute_result"
    }
   ],
   "source": [
    "apples"
   ]
  },
  {
   "cell_type": "markdown",
   "id": "32b626e4-7ad5-4142-9590-e4bb246d9bb4",
   "metadata": {},
   "source": [
    "## Using paramiterized method"
   ]
  },
  {
   "cell_type": "code",
   "execution_count": 5,
   "id": "224e8e2c-104d-4db4-a88c-60dec632140e",
   "metadata": {
    "tags": []
   },
   "outputs": [],
   "source": [
    "public static List<Apple> filterColorApples(List<Apple> inventory, Color color) {\n",
    "    List<Apple> result = new ArrayList<>();\n",
    "    for(Apple apple: inventory) {\n",
    "        if (color.equals(apple.getColor())) {\n",
    "            result.add(apple);\n",
    "        }\n",
    "    }\n",
    "    return result;\n",
    "}"
   ]
  },
  {
   "cell_type": "code",
   "execution_count": 6,
   "id": "312d4997-2ef8-48cc-95f7-9af96218a9e3",
   "metadata": {
    "tags": []
   },
   "outputs": [],
   "source": [
    "public static List<Apple> filterWeightApples(List<Apple> inventory, int weight) {\n",
    "    List<Apple> result = new ArrayList<>();\n",
    "    for(Apple apple: inventory) {\n",
    "        if (apple.getWeight() > weight) {\n",
    "            result.add(apple);\n",
    "        }\n",
    "    }\n",
    "    return result;\n",
    "}"
   ]
  },
  {
   "cell_type": "code",
   "execution_count": 7,
   "id": "b29b9a38-d2b4-40bf-b21d-9f07cc2eda8b",
   "metadata": {
    "tags": []
   },
   "outputs": [
    {
     "data": {
      "text/plain": [
       "[GREEN 12, GREEN 11]"
      ]
     },
     "execution_count": 7,
     "metadata": {},
     "output_type": "execute_result"
    }
   ],
   "source": [
    "List<Apple> greenApples = filterColorApples(apples, Color.GREEN);\n",
    "List<Apple> greenHeavyApples = filterWeightApples(greenApples, 10);\n",
    "greenHeavyApples;"
   ]
  },
  {
   "cell_type": "markdown",
   "id": "43575f68-8d09-40ca-9031-9b803bc41c85",
   "metadata": {
    "jp-MarkdownHeadingCollapsed": true,
    "tags": []
   },
   "source": [
    "## Using old predicate"
   ]
  },
  {
   "cell_type": "code",
   "execution_count": 8,
   "id": "059d595b-2a1d-43fd-ae07-414447e73f5d",
   "metadata": {
    "tags": []
   },
   "outputs": [],
   "source": [
    "public interface ApplePredicate {\n",
    "    List<Apple> test(List<Apple> apples);\n",
    "}"
   ]
  },
  {
   "cell_type": "code",
   "execution_count": 9,
   "id": "0ed472b8-819b-4cfc-b970-888e564a575f",
   "metadata": {
    "tags": []
   },
   "outputs": [],
   "source": [
    "public class AppleGreenColorPredicate implements ApplePredicate {\n",
    "    public List<Apple> test(List<Apple> apples) {\n",
    "        List<Apple> result = new ArrayList<>();\n",
    "        for(Apple apple: apples) {\n",
    "            if (Color.GREEN.equals(apple.getColor())) {\n",
    "                result.add(apple);\n",
    "            }\n",
    "        }\n",
    "        return result;\n",
    "    }\n",
    "}"
   ]
  },
  {
   "cell_type": "code",
   "execution_count": 10,
   "id": "102811e1-fc3a-45a0-99fa-8324b3ab015b",
   "metadata": {
    "tags": []
   },
   "outputs": [],
   "source": [
    "public class AppleHeavyWeightPredicate implements ApplePredicate {\n",
    "    public List<Apple> test(List<Apple> apples) {\n",
    "        List<Apple> result = new ArrayList<>();\n",
    "        for(Apple apple: apples) {\n",
    "            if (apple.getWeight() > 10) {\n",
    "                result.add(apple);\n",
    "            }\n",
    "        }\n",
    "        return result;\n",
    "    }\n",
    "}"
   ]
  },
  {
   "cell_type": "code",
   "execution_count": 11,
   "id": "e965b09a-7767-44ef-9e1c-dd2abc656487",
   "metadata": {
    "tags": []
   },
   "outputs": [
    {
     "data": {
      "text/plain": [
       "[GREEN 12, GREEN 11, GREEN 7]"
      ]
     },
     "execution_count": 11,
     "metadata": {},
     "output_type": "execute_result"
    }
   ],
   "source": [
    "List<Apple> greenApples = new AppleGreenColorPredicate().test(apples);\n",
    "greenApples"
   ]
  },
  {
   "cell_type": "markdown",
   "id": "30f47575-58c9-4a75-a95e-7b22ed7012b6",
   "metadata": {},
   "source": [
    "## Using predicate"
   ]
  },
  {
   "cell_type": "code",
   "execution_count": 12,
   "id": "a77f4e3e-f7e5-4822-8cbc-f90218dbeaf0",
   "metadata": {
    "tags": []
   },
   "outputs": [],
   "source": [
    "public interface ApplePredicate {\n",
    "    boolean test(Apple apple);\n",
    "}"
   ]
  },
  {
   "cell_type": "code",
   "execution_count": 13,
   "id": "70af7c8c-be3a-4033-949a-3ed65d94eeec",
   "metadata": {
    "tags": []
   },
   "outputs": [],
   "source": [
    "public class AppleGreenColorPredicate implements ApplePredicate {\n",
    "    public boolean test(Apple apple) {\n",
    "        return Color.GREEN.equals(apple.getColor());\n",
    "    }\n",
    "}"
   ]
  },
  {
   "cell_type": "code",
   "execution_count": 14,
   "id": "e039093d-93cc-4662-9c2a-14dcbc0f2be3",
   "metadata": {
    "tags": []
   },
   "outputs": [],
   "source": [
    "public class AppleHeavyWeightPredicate implements ApplePredicate {\n",
    "    public boolean test(Apple apple) {\n",
    "        return apple.getWeight() > 10;\n",
    "    }\n",
    "}"
   ]
  },
  {
   "cell_type": "code",
   "execution_count": 15,
   "id": "1cce479c-c7a0-4862-9d6f-e0252fb3e58a",
   "metadata": {
    "tags": []
   },
   "outputs": [],
   "source": [
    "public static List<Apple> filterApples(List<Apple> inventory, ApplePredicate p) {\n",
    "    List<Apple> result = new ArrayList<>();\n",
    "    for(Apple apple: inventory) {\n",
    "        if (p.test(apple)) {\n",
    "            result.add(apple);\n",
    "        }\n",
    "    }\n",
    "    return result;\n",
    "}"
   ]
  },
  {
   "cell_type": "code",
   "execution_count": 16,
   "id": "40ffcc49-61e8-42a4-8c3b-40e0aa613e8b",
   "metadata": {
    "tags": []
   },
   "outputs": [
    {
     "data": {
      "text/plain": [
       "[GREEN 12, GREEN 11, GREEN 7]"
      ]
     },
     "execution_count": 16,
     "metadata": {},
     "output_type": "execute_result"
    }
   ],
   "source": [
    "List<Apple> greenApples = filterApples(apples, new AppleGreenColorPredicate());\n",
    "greenApples"
   ]
  },
  {
   "cell_type": "code",
   "execution_count": 17,
   "id": "21d94be5-2203-407f-9417-4ccfe0d94818",
   "metadata": {
    "tags": []
   },
   "outputs": [
    {
     "data": {
      "text/plain": [
       "[GREEN 12, GREEN 11]"
      ]
     },
     "execution_count": 17,
     "metadata": {},
     "output_type": "execute_result"
    }
   ],
   "source": [
    "List<Apple> greenHeavyApples = filterApples(greenApples, new AppleHeavyWeightPredicate());\n",
    "greenHeavyApples"
   ]
  },
  {
   "cell_type": "markdown",
   "id": "ff4a5caf-d9c4-40fb-9a78-40dc5ce09481",
   "metadata": {
    "tags": []
   },
   "source": [
    "## Using predicate with anonynomous class"
   ]
  },
  {
   "cell_type": "code",
   "execution_count": 18,
   "id": "f68f8ee3-0976-4736-8f2b-3a338190060a",
   "metadata": {
    "tags": []
   },
   "outputs": [
    {
     "data": {
      "text/plain": [
       "[RED 15, RED 12]"
      ]
     },
     "execution_count": 18,
     "metadata": {},
     "output_type": "execute_result"
    }
   ],
   "source": [
    "List<Apple> redApples = filterApples(apples, new ApplePredicate() {\n",
    "    public boolean test(Apple apple) {\n",
    "        return Color.RED.equals(apple.getColor());\n",
    "    }\n",
    "});\n",
    "redApples"
   ]
  },
  {
   "cell_type": "code",
   "execution_count": 19,
   "id": "dcc1b915-0e52-4f3f-8aa4-ce9b5b82fa54",
   "metadata": {
    "tags": []
   },
   "outputs": [
    {
     "data": {
      "text/plain": [
       "[RED 12]"
      ]
     },
     "execution_count": 19,
     "metadata": {},
     "output_type": "execute_result"
    }
   ],
   "source": [
    "List<Apple> redLightweightApples = filterApples(redApples, new ApplePredicate() {\n",
    "    public boolean test(Apple apple) {\n",
    "        return apple.getWeight() < 15;\n",
    "    }\n",
    "});\n",
    "redLightweightApples"
   ]
  },
  {
   "cell_type": "code",
   "execution_count": 20,
   "id": "080446a8-6507-4168-bb7a-c1e7ef295219",
   "metadata": {
    "tags": []
   },
   "outputs": [
    {
     "data": {
      "text/plain": [
       "[RED 15, RED 12]"
      ]
     },
     "execution_count": 20,
     "metadata": {},
     "output_type": "execute_result"
    }
   ],
   "source": [
    "List<Apple> heavier5Apples = filterApples(redApples, new ApplePredicate() {\n",
    "    public boolean test(Apple apple) {\n",
    "        return apple.getWeight() > 5;\n",
    "    }\n",
    "});\n",
    "heavier5Apples"
   ]
  },
  {
   "cell_type": "markdown",
   "id": "ef48141e-4338-406d-957e-81aabcdb0fd0",
   "metadata": {
    "tags": []
   },
   "source": [
    "## Lambda function declaration"
   ]
  },
  {
   "cell_type": "code",
   "execution_count": 21,
   "id": "269e9bd7-aea4-4bbc-9744-02eeb47eef14",
   "metadata": {
    "tags": []
   },
   "outputs": [],
   "source": [
    "public class AppleGreenColorPredicate1 implements ApplePredicate {\n",
    "    public boolean test(Apple apple) {\n",
    "        return Color.GREEN.equals(apple.getColor());\n",
    "    }\n",
    "}"
   ]
  },
  {
   "cell_type": "code",
   "execution_count": 22,
   "id": "8e36bb62-4b4d-4600-9f74-ca4d75946f61",
   "metadata": {
    "tags": []
   },
   "outputs": [],
   "source": [
    "ApplePredicate AppleGreenColorPredicate2 = new ApplePredicate() {\n",
    "    public boolean test(Apple apple) {\n",
    "        return Color.GREEN.equals(apple.getColor());\n",
    "    }\n",
    "}"
   ]
  },
  {
   "cell_type": "code",
   "execution_count": 23,
   "id": "66033d6d-33ee-4451-9ef4-75c9dff4e5e8",
   "metadata": {
    "tags": []
   },
   "outputs": [],
   "source": [
    "ApplePredicate AppleGreenColorPredicate3 = (Apple apple) -> Color.GREEN.equals(apple.getColor());"
   ]
  },
  {
   "cell_type": "markdown",
   "id": "4ce8785d-31b3-492d-bfa8-a30fe2305e35",
   "metadata": {
    "tags": []
   },
   "source": [
    "## Using predicate with lambda function"
   ]
  },
  {
   "cell_type": "code",
   "execution_count": 24,
   "id": "2aa8235e-95f8-446d-88da-5b3b7bc6810f",
   "metadata": {
    "tags": []
   },
   "outputs": [
    {
     "data": {
      "text/plain": [
       "[GREEN 12, GREEN 11, GREEN 7]"
      ]
     },
     "execution_count": 24,
     "metadata": {},
     "output_type": "execute_result"
    }
   ],
   "source": [
    "List<Apple> greenApples1 = filterApples(apples, new AppleGreenColorPredicate1());\n",
    "greenApples1"
   ]
  },
  {
   "cell_type": "code",
   "execution_count": 25,
   "id": "8c2d0017-c8b6-4826-b243-ce533c45570b",
   "metadata": {
    "tags": []
   },
   "outputs": [
    {
     "data": {
      "text/plain": [
       "[GREEN 12, GREEN 11, GREEN 7]"
      ]
     },
     "execution_count": 25,
     "metadata": {},
     "output_type": "execute_result"
    }
   ],
   "source": [
    "List<Apple> greenApples2 = filterApples(apples, AppleGreenColorPredicate2);\n",
    "greenApples2"
   ]
  },
  {
   "cell_type": "code",
   "execution_count": 26,
   "id": "5b25f42a-2943-4efb-b49c-3b3a44d5461d",
   "metadata": {
    "tags": []
   },
   "outputs": [
    {
     "data": {
      "text/plain": [
       "[GREEN 12, GREEN 11, GREEN 7]"
      ]
     },
     "execution_count": 26,
     "metadata": {},
     "output_type": "execute_result"
    }
   ],
   "source": [
    "List<Apple> greenApples3 = filterApples(apples, AppleGreenColorPredicate3);\n",
    "greenApples3"
   ]
  },
  {
   "cell_type": "markdown",
   "id": "86cd17ea-81ec-411e-b271-9a441c988a04",
   "metadata": {
    "tags": []
   },
   "source": [
    "## In-line anonymous lambda function"
   ]
  },
  {
   "cell_type": "code",
   "execution_count": 27,
   "id": "0bb1dc2e-7e59-41e8-bbb9-a0e2c8e80d77",
   "metadata": {
    "tags": []
   },
   "outputs": [
    {
     "data": {
      "text/plain": [
       "[GREEN 12, GREEN 11, GREEN 7]"
      ]
     },
     "execution_count": 27,
     "metadata": {},
     "output_type": "execute_result"
    }
   ],
   "source": [
    "List<Apple> greenApples = filterApples(apples, (Apple apple) -> Color.GREEN.equals(apple.getColor()));\n",
    "greenApples"
   ]
  },
  {
   "cell_type": "code",
   "execution_count": 28,
   "id": "41a208a4-419a-4189-a57a-c4b561f2a57d",
   "metadata": {
    "tags": []
   },
   "outputs": [
    {
     "data": {
      "text/plain": [
       "[GREEN 12, GREEN 11]"
      ]
     },
     "execution_count": 28,
     "metadata": {},
     "output_type": "execute_result"
    }
   ],
   "source": [
    "List<Apple> greenApples = filterApples(apples, (Apple apple) -> Color.GREEN.equals(apple.getColor()));\n",
    "List<Apple> weightApples = filterApples(greenApples, (Apple apple) -> apple.getWeight() > 10);\n",
    "weightApples"
   ]
  }
 ],
 "metadata": {
  "kernelspec": {
   "display_name": "Java",
   "language": "java",
   "name": "java"
  },
  "language_info": {
   "codemirror_mode": "java",
   "file_extension": ".jshell",
   "mimetype": "text/x-java-source",
   "name": "Java",
   "pygments_lexer": "java",
   "version": "21+35-LTS-2513"
  }
 },
 "nbformat": 4,
 "nbformat_minor": 5
}
