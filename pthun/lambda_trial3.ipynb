{
 "cells": [
  {
   "cell_type": "markdown",
   "id": "349e6071-2638-4a66-9311-6b98271dbc0a",
   "metadata": {},
   "source": [
    "## Functional interface with Java built-in interface"
   ]
  },
  {
   "cell_type": "code",
   "execution_count": 1,
   "id": "06b4f0da-1800-49dc-a1e8-8d231cf96a2f",
   "metadata": {
    "tags": []
   },
   "outputs": [],
   "source": [
    "Runnable r1 = new Runnable() {\n",
    "    public void run() {\n",
    "        System.out.println(\"Hello World!\");\n",
    "    }\n",
    "}"
   ]
  },
  {
   "cell_type": "code",
   "execution_count": 2,
   "id": "787d3db2-41a2-4964-88a8-d2df17e44f2a",
   "metadata": {
    "tags": []
   },
   "outputs": [
    {
     "name": "stdout",
     "output_type": "stream",
     "text": [
      "Hello World!\n"
     ]
    }
   ],
   "source": [
    "r1.run()"
   ]
  },
  {
   "cell_type": "code",
   "execution_count": 21,
   "id": "077572ba-c45a-4ffc-a90c-52c57104617b",
   "metadata": {
    "tags": []
   },
   "outputs": [],
   "source": [
    "Runnable r2 = () -> System.out.println(\"Hello World 2!\");"
   ]
  },
  {
   "cell_type": "code",
   "execution_count": 4,
   "id": "877bc693-46bb-45ac-92d6-897091661172",
   "metadata": {
    "tags": []
   },
   "outputs": [
    {
     "name": "stdout",
     "output_type": "stream",
     "text": [
      "Hello World 2!\n"
     ]
    }
   ],
   "source": [
    "r2.run()"
   ]
  },
  {
   "cell_type": "code",
   "execution_count": 5,
   "id": "571bc7cf-70b4-49f0-af06-6f359469a323",
   "metadata": {
    "tags": []
   },
   "outputs": [],
   "source": [
    "public static void process(Runnable r) {\n",
    "    r.run();\n",
    "}"
   ]
  },
  {
   "cell_type": "code",
   "execution_count": 6,
   "id": "3f7ba7bb-9c03-4e6e-87c5-f9846f567256",
   "metadata": {},
   "outputs": [
    {
     "name": "stdout",
     "output_type": "stream",
     "text": [
      "Hello World!\n"
     ]
    }
   ],
   "source": [
    "process(r1)"
   ]
  },
  {
   "cell_type": "code",
   "execution_count": 7,
   "id": "0ad08775-8b6a-4dcd-861c-3cdc0da0da5d",
   "metadata": {
    "tags": []
   },
   "outputs": [
    {
     "name": "stdout",
     "output_type": "stream",
     "text": [
      "Hello 2!\n"
     ]
    }
   ],
   "source": [
    "process(() -> System.out.println(\"Hello \" + (1 + 1) + \"!\"))"
   ]
  },
  {
   "cell_type": "markdown",
   "id": "eb755514-eeef-458b-b801-f59216236033",
   "metadata": {},
   "source": [
    "## Valid functional interface"
   ]
  },
  {
   "cell_type": "code",
   "execution_count": 8,
   "id": "ccc4bed0-5b7c-4eff-a082-e2db45491140",
   "metadata": {
    "tags": []
   },
   "outputs": [],
   "source": [
    "public interface Operand {\n",
    "    int calculate(int a, int b);\n",
    "}"
   ]
  },
  {
   "cell_type": "code",
   "execution_count": 9,
   "id": "da7ef76c-78d0-4783-8ecd-aae1fb549cc8",
   "metadata": {
    "tags": []
   },
   "outputs": [],
   "source": [
    "void printVal(int firstNum, int secondNum, Operand o) {\n",
    "    System.out.println(o.calculate(firstNum, secondNum));\n",
    "}"
   ]
  },
  {
   "cell_type": "code",
   "execution_count": 10,
   "id": "84f1a6a0-3264-42f0-916e-d64f59f4bc5d",
   "metadata": {
    "tags": []
   },
   "outputs": [],
   "source": [
    "public class Plus implements Operand {\n",
    "    public int calculate(int a, int b) {\n",
    "        return a + b;\n",
    "    }\n",
    "}"
   ]
  },
  {
   "cell_type": "code",
   "execution_count": 11,
   "id": "79169ec5-ea98-4cf4-9b47-3313f980b55e",
   "metadata": {
    "tags": []
   },
   "outputs": [
    {
     "name": "stdout",
     "output_type": "stream",
     "text": [
      "5\n"
     ]
    }
   ],
   "source": [
    "printVal(2, 3, new Plus())"
   ]
  },
  {
   "cell_type": "code",
   "execution_count": 12,
   "id": "5cc193b3-94e7-4fcf-862e-7a1469495cec",
   "metadata": {
    "tags": []
   },
   "outputs": [
    {
     "name": "stdout",
     "output_type": "stream",
     "text": [
      "6\n"
     ]
    }
   ],
   "source": [
    "printVal(2, 3, (int a, int b) -> a * b)"
   ]
  },
  {
   "cell_type": "code",
   "execution_count": 13,
   "id": "5e8011da-7cc0-4fb7-8b4f-1f3e44ccf623",
   "metadata": {
    "tags": []
   },
   "outputs": [
    {
     "name": "stdout",
     "output_type": "stream",
     "text": [
      "6\n"
     ]
    }
   ],
   "source": [
    "printVal(2, 3, (int a, int b) -> (a * b))"
   ]
  },
  {
   "cell_type": "markdown",
   "id": "969d32a0-e66c-416f-9424-f36232942b3d",
   "metadata": {},
   "source": [
    "## Valid (multi-line) functional interface"
   ]
  },
  {
   "cell_type": "code",
   "execution_count": 14,
   "id": "62c9c657-5c63-48bf-a263-322f9fabc0c3",
   "metadata": {
    "tags": []
   },
   "outputs": [
    {
     "name": "stdout",
     "output_type": "stream",
     "text": [
      "6\n"
     ]
    }
   ],
   "source": [
    "printVal(2, 3, (int a, int b) -> {\n",
    "    int z = a * b;\n",
    "    z -= 1;\n",
    "    z = (z+1) * 1;\n",
    "    return z;\n",
    "})"
   ]
  },
  {
   "cell_type": "markdown",
   "id": "2d3c7c4e-a806-4e67-bedf-851ce8db91a0",
   "metadata": {},
   "source": [
    "## Invalid functional interface"
   ]
  },
  {
   "cell_type": "code",
   "execution_count": 15,
   "id": "f2300ab8-2211-427d-be2a-b3f891bb2134",
   "metadata": {
    "tags": []
   },
   "outputs": [],
   "source": [
    "public interface MultipleOperand {\n",
    "    int calculate(int a, int b);\n",
    "    int abacus(int a, int b);\n",
    "}"
   ]
  },
  {
   "cell_type": "code",
   "execution_count": 16,
   "id": "6d538a5b-7284-485f-a1b8-11b15d51d855",
   "metadata": {
    "tags": []
   },
   "outputs": [],
   "source": [
    "void multiplePrintVal(int firstNum, int secondNum, MultipleOperand o) {\n",
    "    System.out.println(\"Calculate: \" + o.calculate(firstNum, secondNum));\n",
    "    System.out.println(\"Abacus: \" + o.abacus(firstNum, secondNum));\n",
    "}"
   ]
  },
  {
   "cell_type": "code",
   "execution_count": 17,
   "id": "f6317794-e6ce-4241-80f2-12d0dd119b1e",
   "metadata": {
    "tags": []
   },
   "outputs": [],
   "source": [
    "public class PlusAndMinus implements MultipleOperand {\n",
    "    public int calculate(int a, int b) {\n",
    "        return a + b;\n",
    "    }\n",
    "    \n",
    "    public int abacus(int a, int b) {\n",
    "        return a - b;\n",
    "    }\n",
    "}"
   ]
  },
  {
   "cell_type": "code",
   "execution_count": 18,
   "id": "242b05d6-b149-4be3-a120-a6d087848d0c",
   "metadata": {
    "tags": []
   },
   "outputs": [
    {
     "name": "stdout",
     "output_type": "stream",
     "text": [
      "Calculate: 5\n",
      "Abacus: -1\n"
     ]
    }
   ],
   "source": [
    "multiplePrintVal(2, 3, new PlusAndMinus())"
   ]
  },
  {
   "cell_type": "code",
   "execution_count": 19,
   "id": "03b30269-21be-4508-b3aa-ba2bfd2c3041",
   "metadata": {
    "tags": []
   },
   "outputs": [
    {
     "ename": "CompilationException",
     "evalue": "",
     "output_type": "error",
     "traceback": [
      "\u001b[1m\u001b[30m|   \u001b[1m\u001b[30m\u001b[0m\u001b[1m\u001b[30m\u001b[41mmultiplePrintVal\u001b[0m\u001b[1m\u001b[30m(2, 3, (int a, int b) -> a * b)\u001b[0m",
      "\u001b[1m\u001b[31mincompatible types: MultipleOperand is not a functional interface\u001b[0m",
      "\u001b[1m\u001b[31m    multiple non-overriding abstract methods found in interface MultipleOperand\u001b[0m",
      ""
     ]
    }
   ],
   "source": [
    "multiplePrintVal(2, 3, (int a, int b) -> a * b)"
   ]
  },
  {
   "cell_type": "markdown",
   "id": "d353143f-904a-41ce-b494-401570f04ed9",
   "metadata": {},
   "source": [
    "## Invalid interface class implementation"
   ]
  },
  {
   "cell_type": "code",
   "execution_count": 20,
   "id": "7d54fdc0-8b40-45b7-a577-3afd11bd8719",
   "metadata": {
    "tags": []
   },
   "outputs": [
    {
     "ename": "CompilationException",
     "evalue": "",
     "output_type": "error",
     "traceback": [
      "\u001b[1m\u001b[30m|   \u001b[1m\u001b[30m    \u001b[0m\u001b[1m\u001b[30m\u001b[41mint abacus(int a, int b) {\u001b[0m",
      "\u001b[1m\u001b[30m|   \u001b[1m\u001b[30m\u001b[41m        return a - b;\u001b[0m",
      "\u001b[1m\u001b[30m|   \u001b[1m\u001b[30m\u001b[41m    }\u001b[0m",
      "\u001b[1m\u001b[31mabacus(int,int) in PlusAndMinus cannot implement abacus(int,int) in MultipleOperand\u001b[0m",
      "\u001b[1m\u001b[31m  attempting to assign weaker access privileges; was public\u001b[0m",
      ""
     ]
    }
   ],
   "source": [
    "public class PlusAndMinus implements MultipleOperand {\n",
    "    public int calculate(int a, int b) {\n",
    "        return a + b;\n",
    "    }\n",
    "    \n",
    "    int abacus(int a, int b) {\n",
    "        return a - b;\n",
    "    }\n",
    "}"
   ]
  }
 ],
 "metadata": {
  "kernelspec": {
   "display_name": "Java",
   "language": "java",
   "name": "java"
  },
  "language_info": {
   "codemirror_mode": "java",
   "file_extension": ".jshell",
   "mimetype": "text/x-java-source",
   "name": "Java",
   "pygments_lexer": "java",
   "version": "21+35-LTS-2513"
  }
 },
 "nbformat": 4,
 "nbformat_minor": 5
}
