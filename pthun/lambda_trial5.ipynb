{
 "cells": [
  {
   "cell_type": "code",
   "execution_count": 1,
   "id": "efc4f474-cf41-43aa-b35b-0595195cd23e",
   "metadata": {
    "tags": []
   },
   "outputs": [],
   "source": [
    "class Apple {\n",
    "    String color;\n",
    "    int weight;\n",
    "    \n",
    "    public Apple(String color, int weight) {\n",
    "        this.color = color;\n",
    "        this.weight = weight;\n",
    "    }\n",
    "    \n",
    "    public String getColor() {\n",
    "        return color;\n",
    "    }\n",
    "    \n",
    "    public int getWeight() {\n",
    "        return weight;\n",
    "    }\n",
    "    \n",
    "    public String toString() {\n",
    "        return color.toString() + \" \" + weight;\n",
    "    }\n",
    "}"
   ]
  },
  {
   "cell_type": "code",
   "execution_count": 2,
   "id": "76f904b8-9fc0-4951-972a-d0b7b45cf67b",
   "metadata": {
    "tags": []
   },
   "outputs": [
    {
     "data": {
      "text/plain": [
       "true"
      ]
     },
     "execution_count": 2,
     "metadata": {},
     "output_type": "execute_result"
    }
   ],
   "source": [
    "ArrayList<Apple> apples = new ArrayList<>();\n",
    "apples.add(new Apple(\"GREEN\", 12));\n",
    "apples.add(new Apple(\"RED\", 15));\n",
    "apples.add(new Apple(\"GREEN\", 11));\n",
    "apples.add(new Apple(\"GREEN\", 7));\n",
    "apples.add(new Apple(\"RED\", 12));"
   ]
  },
  {
   "cell_type": "code",
   "execution_count": 3,
   "id": "773d46de-b45e-4eae-8a30-1629e8588219",
   "metadata": {
    "tags": []
   },
   "outputs": [
    {
     "data": {
      "text/plain": [
       "[GREEN 12, RED 15, GREEN 11, GREEN 7, RED 12]"
      ]
     },
     "execution_count": 3,
     "metadata": {},
     "output_type": "execute_result"
    }
   ],
   "source": [
    "apples"
   ]
  },
  {
   "cell_type": "markdown",
   "id": "0af2e296-5d8d-4168-8f40-06d7b1c7429c",
   "metadata": {
    "tags": []
   },
   "source": [
    "## Using predicate / method reference"
   ]
  },
  {
   "cell_type": "code",
   "execution_count": 4,
   "id": "140155f2-64e5-44c2-b0e4-359588d1da5e",
   "metadata": {
    "tags": []
   },
   "outputs": [],
   "source": [
    "public interface AppleProperty {\n",
    "    String property(Apple apple);\n",
    "}"
   ]
  },
  {
   "cell_type": "code",
   "execution_count": 5,
   "id": "b5652371-abe0-4f2c-8736-65e5a85d6896",
   "metadata": {
    "tags": []
   },
   "outputs": [],
   "source": [
    "public static List<String> appleProperties(List<Apple> inventory, AppleProperty p) {\n",
    "    List<String> result = new ArrayList<>();\n",
    "    for(Apple apple: inventory) {\n",
    "        result.add(p.property(apple));\n",
    "    }\n",
    "    return result;\n",
    "}"
   ]
  },
  {
   "cell_type": "code",
   "execution_count": 6,
   "id": "6a3995a9-ece1-430e-87b3-785b435de028",
   "metadata": {
    "tags": []
   },
   "outputs": [
    {
     "data": {
      "text/plain": [
       "[GREEN 12, RED 15, GREEN 11, GREEN 7, RED 12]"
      ]
     },
     "execution_count": 6,
     "metadata": {},
     "output_type": "execute_result"
    }
   ],
   "source": [
    "apples"
   ]
  },
  {
   "cell_type": "code",
   "execution_count": 7,
   "id": "a9e0c8b9-84d7-410b-9838-6ffdef374624",
   "metadata": {
    "tags": []
   },
   "outputs": [
    {
     "data": {
      "text/plain": [
       "[GREEN, RED, GREEN, GREEN, RED]"
      ]
     },
     "execution_count": 7,
     "metadata": {},
     "output_type": "execute_result"
    }
   ],
   "source": [
    "List<String> appleColors = appleProperties(apples, (Apple apple) -> apple.getColor());\n",
    "appleColors"
   ]
  },
  {
   "cell_type": "code",
   "execution_count": 8,
   "id": "b73eae8c-4d94-4eea-a11c-1e07145e1e3a",
   "metadata": {
    "tags": []
   },
   "outputs": [
    {
     "data": {
      "text/plain": [
       "[GREEN, RED, GREEN, GREEN, RED]"
      ]
     },
     "execution_count": 8,
     "metadata": {},
     "output_type": "execute_result"
    }
   ],
   "source": [
    "List<String> appleColors = appleProperties(apples, Apple::getColor);\n",
    "appleColors"
   ]
  }
 ],
 "metadata": {
  "kernelspec": {
   "display_name": "Java",
   "language": "java",
   "name": "java"
  },
  "language_info": {
   "codemirror_mode": "java",
   "file_extension": ".jshell",
   "mimetype": "text/x-java-source",
   "name": "Java",
   "pygments_lexer": "java",
   "version": "21+35-LTS-2513"
  }
 },
 "nbformat": 4,
 "nbformat_minor": 5
}
