{
 "cells": [
  {
   "cell_type": "code",
   "execution_count": 1,
   "id": "9fb62895-a204-48d0-8fd0-59b734054bc7",
   "metadata": {
    "tags": []
   },
   "outputs": [],
   "source": [
    "import static java.util.stream.Collectors.toList;"
   ]
  },
  {
   "cell_type": "code",
   "execution_count": 2,
   "id": "ed86746b-2b59-4621-86e0-4b1d532a9c55",
   "metadata": {
    "tags": []
   },
   "outputs": [],
   "source": [
    "public enum Type { MEAT, FISH, OTHER }"
   ]
  },
  {
   "cell_type": "code",
   "execution_count": 3,
   "id": "84b837e1-e0ed-4ed0-a02d-b7d2d5b51141",
   "metadata": {
    "tags": []
   },
   "outputs": [],
   "source": [
    "public class Dish {\n",
    "    private final String name;\n",
    "    private final boolean vegetarian;\n",
    "    private final int calories;\n",
    "    private final Type type;\n",
    "    \n",
    "    public Dish(String name, boolean vegetarian, int calories, Type type) {\n",
    "        this.name = name;\n",
    "        this.vegetarian = vegetarian;\n",
    "        this.calories = calories;\n",
    "        this.type = type;\n",
    "    }\n",
    "        \n",
    "    public String getName() {\n",
    "        return name;\n",
    "    }\n",
    "\n",
    "    public boolean isVegetarian() {\n",
    "        return vegetarian;\n",
    "    }\n",
    "    \n",
    "    public int getCalories() {\n",
    "        return calories;\n",
    "    }\n",
    "        \n",
    "    public Type getType() {\n",
    "        return type;\n",
    "    }\n",
    "    \n",
    "    @Override\n",
    "    public String toString() {\n",
    "        return name + \" \" + vegetarian + \" \" + calories + \" \" + type;\n",
    "    }\n",
    "}"
   ]
  },
  {
   "cell_type": "code",
   "execution_count": 4,
   "id": "64aab2e5-eca9-4c56-a2a8-724305e7c778",
   "metadata": {
    "tags": []
   },
   "outputs": [],
   "source": [
    "List<Dish> menus = Arrays.asList(\n",
    "    new Dish(\"pork\", false, 800, Type.MEAT),\n",
    "    new Dish(\"beef\", false, 700, Type.MEAT),\n",
    "    new Dish(\"chicken\", false, 510, Type.MEAT),\n",
    "    new Dish(\"mutton\", false, 600, Type.MEAT),\n",
    "    new Dish(\"french fries\", true, 530, Type.OTHER),\n",
    "    new Dish(\"rice\", true, 350, Type.OTHER),\n",
    "    new Dish(\"season fruit\", true, 120, Type.OTHER),\n",
    "    new Dish(\"pizza\", true, 550, Type.OTHER),\n",
    "    new Dish(\"prawns\", false, 550, Type.FISH),\n",
    "    new Dish(\"two\", false, 300, Type.FISH),\n",
    "    new Dish(\"salmon\", false, 450, Type.FISH)\n",
    ");"
   ]
  },
  {
   "cell_type": "code",
   "execution_count": 5,
   "id": "4ce04468-ce6b-4721-aa50-5acf2f98fad5",
   "metadata": {
    "tags": []
   },
   "outputs": [
    {
     "data": {
      "text/plain": [
       "[pork false 800 MEAT, beef false 700 MEAT, chicken false 510 MEAT, mutton false 600 MEAT, french fries true 530 OTHER, rice true 350 OTHER, season fruit true 120 OTHER, pizza true 550 OTHER, prawns false 550 FISH, two false 300 FISH, salmon false 450 FISH]"
      ]
     },
     "execution_count": 5,
     "metadata": {},
     "output_type": "execute_result"
    }
   ],
   "source": [
    "menus"
   ]
  },
  {
   "cell_type": "markdown",
   "id": "0d9bb527-c093-4ce0-8bb9-4b0020f3ab93",
   "metadata": {
    "tags": []
   },
   "source": [
    "## Example stream"
   ]
  },
  {
   "cell_type": "code",
   "execution_count": 6,
   "id": "d1819842-5c38-4ffc-862a-922946acab21",
   "metadata": {
    "tags": []
   },
   "outputs": [
    {
     "data": {
      "text/plain": [
       "java.util.stream.ReferencePipeline$Head@26fa78a2"
      ]
     },
     "execution_count": 6,
     "metadata": {},
     "output_type": "execute_result"
    }
   ],
   "source": [
    "java.util.stream.Stream<Dish> streamedMenus = menus.stream();\n",
    "streamedMenus"
   ]
  },
  {
   "cell_type": "code",
   "execution_count": 7,
   "id": "af80f815-4cc6-4ce7-a1da-b93192663d5f",
   "metadata": {
    "tags": []
   },
   "outputs": [
    {
     "data": {
      "text/plain": [
       "[pork false 800 MEAT, beef false 700 MEAT, chicken false 510 MEAT, mutton false 600 MEAT, french fries true 530 OTHER, rice true 350 OTHER, season fruit true 120 OTHER, pizza true 550 OTHER, prawns false 550 FISH, two false 300 FISH, salmon false 450 FISH]"
      ]
     },
     "execution_count": 7,
     "metadata": {},
     "output_type": "execute_result"
    }
   ],
   "source": [
    "List<Dish> streamedMenus = menus.stream().collect(toList());\n",
    "\n",
    "streamedMenus"
   ]
  },
  {
   "cell_type": "code",
   "execution_count": 8,
   "id": "c282c067-01d0-4789-b606-947ea7d972c9",
   "metadata": {
    "tags": []
   },
   "outputs": [
    {
     "data": {
      "text/plain": [
       "[pork false 800 MEAT, beef false 700 MEAT, chicken false 510 MEAT, mutton false 600 MEAT, french fries true 530 OTHER, rice true 350 OTHER, pizza true 550 OTHER, prawns false 550 FISH, salmon false 450 FISH]"
      ]
     },
     "execution_count": 8,
     "metadata": {},
     "output_type": "execute_result"
    }
   ],
   "source": [
    "List<Dish> streamedHighCaloriesMenus = menus.stream()\n",
    "    .filter(dish -> dish.getCalories() > 300)\n",
    "    .collect(toList());\n",
    "\n",
    "streamedHighCaloriesMenus"
   ]
  },
  {
   "cell_type": "code",
   "execution_count": 9,
   "id": "05dc298c-bfd6-40ae-b9b2-601f90d8979d",
   "metadata": {
    "tags": []
   },
   "outputs": [
    {
     "data": {
      "text/plain": [
       "[pork, beef, chicken, mutton, french fries, rice, pizza, prawns, salmon]"
      ]
     },
     "execution_count": 9,
     "metadata": {},
     "output_type": "execute_result"
    }
   ],
   "source": [
    "List<String> streamedHighCaloriesMenuNames = menus.stream()\n",
    "    .filter(dish -> dish.getCalories() > 300)\n",
    "    .map(dish -> dish.getName())\n",
    "    .collect(toList());\n",
    "\n",
    "streamedHighCaloriesMenuNames"
   ]
  },
  {
   "cell_type": "code",
   "execution_count": 10,
   "id": "17e18f79-2977-410f-8bd0-ea8de29cd098",
   "metadata": {
    "tags": []
   },
   "outputs": [
    {
     "name": "stdout",
     "output_type": "stream",
     "text": [
      "[chicken, mutton, french fries]\n"
     ]
    }
   ],
   "source": [
    "List<String> streamedLimitedHighCaloriesMenuNames = menus.stream()\n",
    "    .filter(dish -> dish.getCalories () > 300)\n",
    "    .map(dish -> dish.getName())\n",
    "    .skip(2)\n",
    "    .limit(3)\n",
    "    .collect(toList());\n",
    "\n",
    "System.out.println(streamedLimitedHighCaloriesMenuNames)"
   ]
  },
  {
   "cell_type": "code",
   "execution_count": 11,
   "id": "2636bb77-c8b5-40e4-9cd4-027fd9d1bd5f",
   "metadata": {
    "tags": []
   },
   "outputs": [
    {
     "name": "stdout",
     "output_type": "stream",
     "text": [
      "pork yayyy\n",
      "beef yayyy\n",
      "chicken yayyy\n"
     ]
    }
   ],
   "source": [
    "menus.stream()\n",
    "    .filter(dish -> dish.getCalories () > 300)\n",
    "    .map(dish -> dish.getName())\n",
    "    .limit(3)\n",
    "    .forEach(str -> System.out.println(str + \" yayyy\"));"
   ]
  },
  {
   "cell_type": "code",
   "execution_count": 12,
   "id": "f9674420-9e55-41ab-af42-45d2ee7028a7",
   "metadata": {
    "tags": []
   },
   "outputs": [
    {
     "data": {
      "text/plain": [
       "3"
      ]
     },
     "execution_count": 12,
     "metadata": {},
     "output_type": "execute_result"
    }
   ],
   "source": [
    "long countStream = menus.stream()\n",
    "    .filter(dish -> dish.getCalories () > 300)\n",
    "    .map(dish -> dish.getName())\n",
    "    .limit(3)\n",
    "    .count();\n",
    "countStream"
   ]
  },
  {
   "cell_type": "markdown",
   "id": "9c2872db-d554-411e-95d0-d2420370d4d0",
   "metadata": {
    "tags": []
   },
   "source": [
    "## Refactored to method reference"
   ]
  },
  {
   "cell_type": "code",
   "execution_count": 13,
   "id": "b0cbc939-254b-429a-91a8-f72d198e3ca4",
   "metadata": {
    "tags": []
   },
   "outputs": [
    {
     "name": "stdout",
     "output_type": "stream",
     "text": [
      "[pork, beef, chicken]\n"
     ]
    }
   ],
   "source": [
    "List<String> streamedLimitedHighCaloriesMenuNames = menus.stream()\n",
    "    .filter(adsasds -> adsasds.getCalories () > 300)\n",
    "    .map(Dish::getName)\n",
    "    .limit(3)\n",
    "    .collect(toList());\n",
    "\n",
    "System.out.println(streamedLimitedHighCaloriesMenuNames)"
   ]
  },
  {
   "cell_type": "markdown",
   "id": "7f5dbcf2-2ca9-46cd-849a-2b897fb91e87",
   "metadata": {},
   "source": [
    "## Example"
   ]
  },
  {
   "cell_type": "markdown",
   "id": "6819ff33-6f64-4fec-83ed-ea845c87cbd6",
   "metadata": {
    "tags": []
   },
   "source": [
    "### Filter menu >500 cals."
   ]
  },
  {
   "cell_type": "code",
   "execution_count": 14,
   "id": "797e6459-98c6-4e8f-ac5a-da856e4bf314",
   "metadata": {
    "tags": []
   },
   "outputs": [
    {
     "name": "stdout",
     "output_type": "stream",
     "text": [
      "pork false 800 MEAT\n",
      "beef false 700 MEAT\n",
      "chicken false 510 MEAT\n",
      "mutton false 600 MEAT\n",
      "french fries true 530 OTHER\n",
      "pizza true 550 OTHER\n",
      "prawns false 550 FISH\n"
     ]
    }
   ],
   "source": [
    "menus.stream()\n",
    "    .filter(dish -> dish.getCalories () > 500)\n",
    "    .forEach(str -> System.out.println(str));"
   ]
  },
  {
   "cell_type": "markdown",
   "id": "a93b997a-b062-4aa0-8304-12ca72c046bb",
   "metadata": {
    "tags": []
   },
   "source": [
    "### Filter menu >500 cals, type not OTHER."
   ]
  },
  {
   "cell_type": "code",
   "execution_count": 15,
   "id": "e7aa8a93-4120-476d-ae10-bbb8517128d4",
   "metadata": {
    "tags": []
   },
   "outputs": [
    {
     "data": {
      "text/plain": [
       "[pork false 800 MEAT, beef false 700 MEAT, chicken false 510 MEAT, mutton false 600 MEAT, prawns false 550 FISH]"
      ]
     },
     "execution_count": 15,
     "metadata": {},
     "output_type": "execute_result"
    }
   ],
   "source": [
    "List<Dish> streamedLimitHighCaloriesMenuNames = menus.stream()\n",
    "    .filter(dish -> dish.getCalories () >500 && dish.getType ()!= Type.OTHER)\n",
    "    .collect(toList());\n",
    "\n",
    "streamedLimitHighCaloriesMenuNames"
   ]
  },
  {
   "cell_type": "code",
   "execution_count": 16,
   "id": "11543324-bdf6-467e-b1c5-140b79ef1c12",
   "metadata": {
    "tags": []
   },
   "outputs": [
    {
     "data": {
      "text/plain": [
       "[pork false 800 MEAT, beef false 700 MEAT, chicken false 510 MEAT, mutton false 600 MEAT, prawns false 550 FISH]"
      ]
     },
     "execution_count": 16,
     "metadata": {},
     "output_type": "execute_result"
    }
   ],
   "source": [
    "List<Dish> streamedLimitHighCaloriesMenuNames = menus.stream()\n",
    "    .filter(dish -> dish.getCalories() >500)\n",
    "    .filter(dish -> dish.getType() != Type.OTHER)\n",
    "    .collect(toList());\n",
    "\n",
    "streamedLimitHighCaloriesMenuNames"
   ]
  },
  {
   "cell_type": "markdown",
   "id": "f4047b60-c2f7-48b4-b0dc-d8f47ab113ff",
   "metadata": {},
   "source": [
    "### Filter menu >500 cals, type not OTHER, and not vegetarian."
   ]
  },
  {
   "cell_type": "code",
   "execution_count": 17,
   "id": "c257b054-ffb8-4d4c-86d8-04c0cfe37d6d",
   "metadata": {
    "tags": []
   },
   "outputs": [
    {
     "data": {
      "text/plain": [
       "[pork false 800 MEAT, beef false 700 MEAT, chicken false 510 MEAT, mutton false 600 MEAT, prawns false 550 FISH]"
      ]
     },
     "execution_count": 17,
     "metadata": {},
     "output_type": "execute_result"
    }
   ],
   "source": [
    "List<Dish> streamedLimitHighCaloriesMenuNames = menus.stream()\n",
    "    .filter(dish -> dish.getCalories () >500 && dish.getType () != Type.OTHER && dish.isVegetarian() == false)\n",
    "    .collect(toList());\n",
    "streamedLimitHighCaloriesMenuNames"
   ]
  },
  {
   "cell_type": "markdown",
   "id": "cbee7e89-d18b-462f-9e81-8fff5d8d2a2d",
   "metadata": {},
   "source": [
    "### Filter menu >500 cals, type not OTHER, not vegetarian, then show only name."
   ]
  },
  {
   "cell_type": "code",
   "execution_count": null,
   "id": "80455137-6914-4ee3-bb2c-829997ec8ea7",
   "metadata": {},
   "outputs": [],
   "source": []
  },
  {
   "cell_type": "markdown",
   "id": "d1552527-70bc-48c6-ac84-6857ac3cc062",
   "metadata": {},
   "source": [
    "### Filter menu >500 cals, type not OTHER, not vegetarian, then map number of name charactor."
   ]
  },
  {
   "cell_type": "code",
   "execution_count": null,
   "id": "362425b7-c618-41f5-afa9-264d75a0c2f3",
   "metadata": {},
   "outputs": [],
   "source": []
  },
  {
   "cell_type": "markdown",
   "id": "e64f6b20-c4cb-4b0f-a9b5-6a85abd11780",
   "metadata": {},
   "source": [
    "### Filter menu >500 cals, type not OTHER, not vegetarian, then uniquely map number of name charactor."
   ]
  },
  {
   "cell_type": "code",
   "execution_count": null,
   "id": "f0efa6be-5a8e-4ba3-a560-6e88fe0aa8b0",
   "metadata": {},
   "outputs": [],
   "source": []
  },
  {
   "cell_type": "markdown",
   "id": "03b627d5-572c-411a-9614-5f469829a086",
   "metadata": {
    "tags": []
   },
   "source": [
    "### Filter menu 400-500 cals, type OTHER or FISH, be vegetarian, sort by calories."
   ]
  },
  {
   "cell_type": "code",
   "execution_count": null,
   "id": "6d68aeae-2b90-4f1b-ad6c-1b27e3745f84",
   "metadata": {},
   "outputs": [],
   "source": []
  },
  {
   "cell_type": "markdown",
   "id": "c1aac8f2-a7bd-4ed3-8c6a-c358672cb861",
   "metadata": {
    "tags": []
   },
   "source": [
    "### Filter menu 400-500 cals, type OTHER or FISH, be vegetarian, sort by calories skip first 2 and last 1."
   ]
  },
  {
   "cell_type": "code",
   "execution_count": null,
   "id": "59ca836a-d76a-4ac8-97ce-230d643808fc",
   "metadata": {},
   "outputs": [],
   "source": []
  },
  {
   "cell_type": "markdown",
   "id": "2c0c18e5-9523-4555-8920-699131f4d4be",
   "metadata": {
    "tags": []
   },
   "source": [
    "### Count menu only 400-500 cals, type not other, be vegetarian, sort by calories skip first 1 and last 1."
   ]
  },
  {
   "cell_type": "code",
   "execution_count": null,
   "id": "15139b0b-9d75-4657-b106-fb69fd32c8c2",
   "metadata": {},
   "outputs": [],
   "source": []
  },
  {
   "cell_type": "markdown",
   "id": "a2a76146-af94-4181-a1a5-14cff0d945ea",
   "metadata": {
    "tags": []
   },
   "source": [
    "### Count menu only 400-500 cals, type not other, be vegetarian, sort by calories and sum all calories."
   ]
  },
  {
   "cell_type": "code",
   "execution_count": 18,
   "id": "da0a17d5-15e5-448f-89d5-f3c6ad71ace3",
   "metadata": {},
   "outputs": [],
   "source": [
    "int result = menus.stream()\n",
    "    .filter(dish -> dish.getCalories () >= 400 && dish.getCalories () <= 700)\n",
    "    // .sorted((dish1, dish2) -> {\n",
    "    //     if(dish1.getCalories() > dish2.getCalories())\n",
    "    //         return 1;\n",
    "    //     if(dish1.getCalories() < dish2.getCalories())\n",
    "    //         return -1;\n",
    "    //     return 0;\n",
    "    // })\n",
    "    .map(dish -> dish.getCalories())\n",
    "    .reduce(0, (cal1, cal2) -> cal1 + cal2);"
   ]
  },
  {
   "cell_type": "code",
   "execution_count": 19,
   "id": "cb63b4b8-13de-42b7-b45b-886886ff515e",
   "metadata": {
    "tags": []
   },
   "outputs": [
    {
     "data": {
      "text/plain": [
       "3890"
      ]
     },
     "execution_count": 19,
     "metadata": {},
     "output_type": "execute_result"
    }
   ],
   "source": [
    "result"
   ]
  }
 ],
 "metadata": {
  "kernelspec": {
   "display_name": "Java",
   "language": "java",
   "name": "java"
  },
  "language_info": {
   "codemirror_mode": "java",
   "file_extension": ".jshell",
   "mimetype": "text/x-java-source",
   "name": "Java",
   "pygments_lexer": "java",
   "version": "21+35-LTS-2513"
  }
 },
 "nbformat": 4,
 "nbformat_minor": 5
}
